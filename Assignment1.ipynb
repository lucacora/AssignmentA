{
 "cells": [
  {
   "cell_type": "markdown",
   "id": "db5f18c7-87d1-4a1c-8a94-f4f992dac588",
   "metadata": {},
   "source": [
    "Statistics assignment A\n"
   ]
  },
  {
   "cell_type": "markdown",
   "id": "7f8e51b4-1ac7-4c1a-86a8-6410a0a173ae",
   "metadata": {},
   "source": [
    "he Dutch Railways (NS) is aiming to be one of the most sustainability-oriented public transportation\n",
    "firms in Europe. In a bid to move to an even more sustainable society, the NS wants to offer a better\n",
    "service in terms of its mobility plans. The NS wants to expand their offerings with e-bikes, which is\n",
    "currently only available at select locations, and their own NS e-scooters. Both can be accessed by using\n",
    "the NS-OV card. To boost usage, the NS aims to launch a function in the NS app dedicated to stimulating\n",
    "sustainable behavior and customer loyalty. In particular, the NS aims to launch a “Move-To-Earn”\n",
    "gamification function, where consumers score points based upon their e-bike or e-scooter traveling\n",
    "behavior. The more kilometers they commute using an e-bike or e-scooter linked to their personalized\n",
    "NS card, the more points a user receives. These points can be exchanged for discounts or free products\n",
    "at NS station-based establishments (e.g. Kiosk, AH2Go, Julia’s). To identify whether this move-to-earn\n",
    "function could be successful, the NS aims conducts a study in cooperation with the TU/e, of which your\n",
    "group is the lead research team. Two groups of NS travelers will be researched: one who will be testing\n",
    "the gamification platform, and one control group who will not be using the gamification platform. Both\n",
    "groups will be using e-scooters and e-bikes.\n",
    "The NS has several goals in mind for this pilot study. First, the NS wants to test whether the use of a\n",
    "Move-To-Earn app leads to increased usage of e-bikes and e-scooters. Second, the NS wants to identify\n",
    "whether or not the move-to-earn app can instill a more sustainable mindset with its users. Third, the NS\n",
    "wants to test whether it is people who commute by train who mainly use these mobility offerings or if\n",
    "people that didn’t use the train prior to accessing an e-bike or e-scooter also use it. Lastly, the NS wants\n",
    "to make use of this pilot study to get some more insights into how intensively their mobility offerings\n",
    "are being used and how much carbon their behavior reduces. This is important as recent research shows\n",
    "that shared e-bikes can decrease carbon emissions by 120g per kilometer travelled (Li et al. 2023).\n",
    "Identifying the usage could give the NS some approximation of how beneficial this introduction of new\n",
    "shared mobility could be in terms of decreasing carbon emissions.\n",
    "\n",
    "\n",
    "\n",
    "Variables included in the study:\n",
    "- ID = User ID\n",
    "- Kilometers travelled\n",
    "- Type of mobility (0 = e-bike; 1 = escooter)\n",
    "- Play-To-Earn user (0 = no; 1 = yes)\n",
    "- Used train before using e-bike or e-scooter? (0 = No; 1 = Yes)\n",
    "- Sustainable mindset Pre-usage (1 to 7 scale, where 1 stands for no sustainable mindset,\n",
    "and 7 for a very strong sustainability mindset)\n",
    "- Sustainable mindset Post-usage (1 to 7 scale, where 1 stands for no sustainable mindset,\n",
    "and 7 for a very strong sustainability mindset)\n",
    "- Attitude towards shared mobility (1 to 7 scale, where 1 stands for a strong dislike towards\n",
    "shared mobility and 7 a strong liking towards shared mobility)\n",
    "- Duration of mobility usage (according to check-in and check-out time of OV chipcard) (in\n",
    "hours)\n",
    "\n",
    "\n",
    "PRACTICAL ARRANGEMENTS\n",
    "Setup and time-line\n",
    "• Part A: Descriptive statistics (Chapter 6 – Montgomery)\n",
    "o Deadline: Friday November 29, 2024 – 23h59\n",
    "\n",
    "\n",
    "Reporting Guidelines\n",
    "You will create a separate Jupyter Notebook for each part of the assignment, and submit the .pdf\n",
    "version to Canvas with the following name “part_x_group_y”.pdf. On ‘x’ you fill in the specific part\n",
    "and\n",
    "\n",
    "• Interpret and communicate statistical analyses in a business-like manner.\n",
    "OVERVIEW OF ASSIGNMENTS\n",
    "Part A: Descriptive Statistics\n",
    "In Part A, you will apply the concepts you have learned in Chapter 6: Descriptive Statistics.\n",
    "Provide a comprehensive description of the data by applying different concepts of Chapter 6 on the data,\n",
    "for example the sample mean and the sample standard deviation (among others). Make beautiful plots\n",
    "and report interesting summary statistics so that we get a first intuitive understanding of the data, and of\n",
    "the relation between a users’ sustainability mindset, type of user, and the other relevant variables. The\n",
    "goal is not to report all the plots and summary statistics you could come up with. Rather, choose\n",
    "carefully how to describe the data, and add your interpretation in markdown. Take the goal of the NS\n",
    "management for this research into account. Provide a structured and easy to follow explanation of\n",
    "your findings.\n",
    "TIPS:\n",
    "• Make sure you use a variety of concepts from Chapter 6.\n",
    "• Clearly describe which (parts of the) data you use for which plots and summary statistics.\n",
    "• Always label the axes of your plots in a meaningful way.\n",
    "\n",
    "\n",
    "• For each plot and summary statistic, include a written interpretation. What does the plot or\n",
    "summary statistic mean?\n",
    "• Make sure the document you provide is tidy and clear. Don’t just run some analyses, write some\n",
    "discussion underneath and submit. Make sure your document is well organized.\n",
    "Deadline part A:\n",
    "Friday November 29, 2024 – 23h59\n"
   ]
  },
  {
   "cell_type": "code",
   "execution_count": 5,
   "id": "04f8b95a-4a8d-4f49-991d-d143032049aa",
   "metadata": {},
   "outputs": [
    {
     "name": "stdout",
     "output_type": "stream",
     "text": [
      "   ID  sustmindset_pre  sustmindset_post  att_sharing  duration (hours)  \\\n",
      "0   1         5.634413          4.679447     4.357248         12.025034   \n",
      "1   2         3.459165          5.428679     3.182123          8.653789   \n",
      "2   3         3.849814          4.695943     3.490557         11.046528   \n",
      "3   4         3.992316          4.988873     7.000000         11.042779   \n",
      "4   5         3.988435          5.224108     4.876797          6.591390   \n",
      "\n",
      "   play-to-earn user (0=non;1=user)  \\\n",
      "0                                 1   \n",
      "1                                 1   \n",
      "2                                 1   \n",
      "3                                 1   \n",
      "4                                 1   \n",
      "\n",
      "   Type of mobility (0 = escooter; 1 = ebike)  Train before  Total KM  \n",
      "0                                    0.078191             1        10  \n",
      "1                                    0.577444             0         5  \n",
      "2                                    0.678126             1        10  \n",
      "3                                    0.955570             1        12  \n",
      "4                                    0.082133             1         4  \n"
     ]
    }
   ],
   "source": [
    "#Opening the notebook \n",
    "import pandas as pd\n",
    "\n",
    "# Read the Excel file\n",
    "df = pd.read_excel('Dataset_assignment_2DD80_20242025.xlsx')\n",
    "\n",
    "# Display the first 5 rows\n",
    "print(df.head())"
   ]
  },
  {
   "cell_type": "code",
   "execution_count": 7,
   "id": "a17d2ada-c2c7-458b-b380-8f31be5552ec",
   "metadata": {},
   "outputs": [
    {
     "name": "stdout",
     "output_type": "stream",
     "text": [
      "<class 'pandas.core.frame.DataFrame'>\n",
      "RangeIndex: 300 entries, 0 to 299\n",
      "Data columns (total 9 columns):\n",
      " #   Column                                      Non-Null Count  Dtype  \n",
      "---  ------                                      --------------  -----  \n",
      " 0   ID                                          300 non-null    int64  \n",
      " 1   sustmindset_pre                             300 non-null    float64\n",
      " 2   sustmindset_post                            300 non-null    float64\n",
      " 3   att_sharing                                 300 non-null    float64\n",
      " 4   duration (hours)                            300 non-null    float64\n",
      " 5   play-to-earn user (0=non;1=user)            300 non-null    int64  \n",
      " 6   Type of mobility (0 = escooter; 1 = ebike)  300 non-null    float64\n",
      " 7   Train before                                300 non-null    int64  \n",
      " 8   Total KM                                    300 non-null    int64  \n",
      "dtypes: float64(5), int64(4)\n",
      "memory usage: 21.2 KB\n"
     ]
    }
   ],
   "source": [
    "df.info()"
   ]
  },
  {
   "cell_type": "code",
   "execution_count": null,
   "id": "482be806-a56e-4a14-900b-a57ce45c46e5",
   "metadata": {},
   "outputs": [],
   "source": []
  }
 ],
 "metadata": {
  "kernelspec": {
   "display_name": "Python 3 (ipykernel)",
   "language": "python",
   "name": "python3"
  },
  "language_info": {
   "codemirror_mode": {
    "name": "ipython",
    "version": 3
   },
   "file_extension": ".py",
   "mimetype": "text/x-python",
   "name": "python",
   "nbconvert_exporter": "python",
   "pygments_lexer": "ipython3",
   "version": "3.11.7"
  }
 },
 "nbformat": 4,
 "nbformat_minor": 5
}
"theo sucks butt"
